{
 "cells": [
  {
   "cell_type": "code",
   "execution_count": null,
   "id": "7c220701",
   "metadata": {},
   "outputs": [],
   "source": [
    "'''Data track task.\n",
    "\n",
    "You are the facilitator in the ADA program for 3 tracks of your choice, \n",
    "here is the list of your students in those three tracks,\n",
    " \n",
    "\"['Amaka disappoint', 'Nedu japan', 'Pretty cynthia', 'Nedu japan', 'Pretty cynthia', 'Pretty cynthia']\",\n",
    "\n",
    " \"('jon doe', 'john doe', 'john doe', 'jon bellion', 'jon bellion', 'john bellcat', 'jon doe')\", \n",
    "\n",
    "\"{'ada ada', 'pyhon ezege', 'dog catcher', 'bitrus beetroot', 'doja cat', 'beja rat'}\",\n",
    "\n",
    "Your first task\n",
    "Create a nested dictionary students with your chosen tracks, \n",
    "a names key is required for each track and choose any sequence above as the value for that names key. \n",
    "\n",
    "Kindly note that each sequence in your names keys should have unique values (i.e no duplicates) and must be of type list and this must be done programatically.\n",
    "\n",
    "Your second task,\n",
    "Create a scores key of type, list in each track where the first index in the names key, corresponds with the first index in the scores key.\n",
    "\n",
    "Your third task,\n",
    "Print this desired result. \n",
    "The top students are:\n",
    " \n",
    "[studentName] with score of [score] for [track] track, \n",
    "[studentName] with score of [score] for [track] track and [studentName] with score of [score] for [track] track.\n",
    "\n",
    "\n",
    "Here's Your Submission Link:'''"
   ]
  },
  {
   "cell_type": "code",
   "execution_count": 5,
   "id": "296d202f",
   "metadata": {},
   "outputs": [
    {
     "name": "stdout",
     "output_type": "stream",
     "text": [
      "{'frontend_dev': {'Amaka disappoint': 60, 'Nedu japan': 80, 'Pretty cynthia': 90}, 'backend_dev ': {'jon doe': 100, 'jon bellion': 95, 'john bellcat': 55}, 'data_track': {'ada ada': 75, 'pyhon ezege': 100, 'dog catcher': 60, 'bitrus beetroot': 80, 'doja cat': 85}}\n"
     ]
    }
   ],
   "source": [
    "ada_program = {\n",
    "    \"frontend_dev\": {'Amaka disappoint': 60,'Nedu japan':80,'Pretty cynthia':90},\n",
    "    \"backend_dev \": {'jon doe':100,'jon bellion':95,'john bellcat':55},\n",
    "    \"data_track\": {'ada ada':75,'pyhon ezege':100,'dog catcher':60,'bitrus beetroot':80,'doja cat':85}\n",
    "}\n",
    "\n",
    "print(ada_program)\n"
   ]
  },
  {
   "cell_type": "code",
   "execution_count": null,
   "id": "a343a6fd",
   "metadata": {},
   "outputs": [],
   "source": [
    "#Original copy\n",
    "\n",
    "\n",
    "# Create a nested dictionary students with three tracks\n",
    "students = {\n",
    "    \"track1\": {\n",
    "        \"names\": list(set([\"Amaka disappoint\", \"Nedu japan\", \"Pretty cynthia\"])),\n",
    "        \"scores\": [0, 0, 0]\n",
    "    },\n",
    "    \"track2\": {\n",
    "        \"names\": list(set([\"jon doe\", \"john doe\", \"jon bellion\", \"john bellcat\"])),\n",
    "        \"scores\": [0, 0, 0, 0]\n",
    "    },\n",
    "    \"track3\": {\n",
    "        \"names\": list(set([\"ada ada\", \"pyhon ezege\", \"dog catcher\", \"bitrus beetroot\", \"doja cat\", \"beja rat\"])),\n",
    "        \"scores\": [0, 0, 0, 0, 0, 0]\n",
    "    }\n",
    "}\n",
    "\n",
    "# Fill in the scores for each student in each track\n",
    "for track_name, track_data in students.items():\n",
    "    for i, student_name in enumerate(track_data[\"names\"]):\n",
    "        track_data[\"scores\"][i] = len(student_name)\n",
    "\n",
    "# Print the desired result\n",
    "print(\"The top students are:\")\n",
    "for track_name, track_data in students.items():\n",
    "    sorted_indexes = sorted(range(len(track_data[\"names\"])), key=lambda i: track_data[\"scores\"][i], reverse=True)\n",
    "    top_students = [\n",
    "        f\"{track_data['names'][i]} with score of {track_data['scores'][i]} for {track_name} track\"\n",
    "        for i in sorted_indexes[:3]\n",
    "    ]\n",
    "    print(\", \".join(top_students) + \".\")\n"
   ]
  },
  {
   "cell_type": "code",
   "execution_count": 1,
   "id": "576aaeeb",
   "metadata": {},
   "outputs": [
    {
     "name": "stdout",
     "output_type": "stream",
     "text": [
      "The top students are:\n",
      "Pretty cynthia with score of 90 for frontend_dev track, Amaka disappoint with score of 80 for frontend_dev track, Nedu japan with score of 70 for frontend_dev track.\n",
      "jon bellion with score of 65 for backend_dev track, john bellcat with score of 60 for backend_dev track, john doe with score of 50 for backend_dev track.\n",
      "pyhon ezege with score of 100 for data track, beja rat with score of 95 for data track, dog catcher with score of 85 for data track.\n"
     ]
    }
   ],
   "source": [
    "# Creating a nested dictionary for students with three tracks\n",
    "ada_program = {\n",
    "    \"frontend_dev\": {\n",
    "        \"stud_name\": list(set([\"Amaka disappoint\", \"Pretty cynthia\", \"Nedu japan\"])),\n",
    "        \"stud_score\": [70, 80, 90]\n",
    "    },\n",
    "    \"backend_dev\": {\n",
    "        \"stud_name\": list(set([\"jon bellion\", \"john doe\", \"john bellcat\"])),\n",
    "        \"stud_score\": [50, 60, 65]\n",
    "    },\n",
    "    \"data\": {\n",
    "        \"stud_name\": list(set([\"ada ada\", \"doja cat\", \"dog catcher\", \"bitrus beetroot\", \"beja rat\", \"pyhon ezege\"])),\n",
    "        \"stud_score\": [40, 100, 50, 75, 95, 85]\n",
    "    }\n",
    "}\n",
    "\n",
    "#the scores for each student in each track\n",
    "for track_name, track_data in ada_program.items():\n",
    "    for i, student_name in enumerate(track_data[\"stud_name\"]):\n",
    "        track_data[\"stud_score\"] [i]\n",
    "\n",
    "# Printing the scores\n",
    "print(\"The top students are:\")\n",
    "for track_name, track_data in ada_program.items():\n",
    "    sorted_indexes = sorted(range(len(track_data[\"stud_name\"])), key=lambda i: track_data[\"stud_score\"][i], reverse=True)\n",
    "    top_students = [\n",
    "        f\"{track_data['stud_name'][i]} with score of {track_data['stud_score'][i]} for {track_name} track\"\n",
    "        for i in sorted_indexes[:3]\n",
    "    ]\n",
    "    print(\", \".join(top_students) + \".\")\n"
   ]
  },
  {
   "cell_type": "code",
   "execution_count": null,
   "id": "449e7627",
   "metadata": {},
   "outputs": [],
   "source": []
  }
 ],
 "metadata": {
  "kernelspec": {
   "display_name": "Python 3 (ipykernel)",
   "language": "python",
   "name": "python3"
  },
  "language_info": {
   "codemirror_mode": {
    "name": "ipython",
    "version": 3
   },
   "file_extension": ".py",
   "mimetype": "text/x-python",
   "name": "python",
   "nbconvert_exporter": "python",
   "pygments_lexer": "ipython3",
   "version": "3.9.7"
  }
 },
 "nbformat": 4,
 "nbformat_minor": 5
}
